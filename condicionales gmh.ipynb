{
 "cells": [
  {
   "cell_type": "code",
   "execution_count": 2,
   "metadata": {},
   "outputs": [
    {
     "name": "stdout",
     "output_type": "stream",
     "text": [
      "contraseña incorrecta, introduzca ña contraseña correcta\n",
      "contaseña correcta\n"
     ]
    }
   ],
   "source": [
    "contraseña=\"computadora\"\n",
    "contador=0\n",
    "\n",
    "while True:\n",
    "    contraseña_input=input(\"introduzca una contraseña\")\n",
    "    contador+=1\n",
    "\n",
    "\n",
    "    if contador>3:\n",
    "        print(\"haz sobrepasado los intentos\")\n",
    "\n",
    "    elif contraseña_input==\"computadora\":\n",
    "        print(\"contaseña correcta\")\n",
    "        break\n",
    "\n",
    "    else:\n",
    "        print(\"contraseña incorrecta, introduzca ña contraseña correcta\")\n",
    "        "
   ]
  }
 ],
 "metadata": {
  "kernelspec": {
   "display_name": "Python 3",
   "language": "python",
   "name": "python3"
  },
  "language_info": {
   "codemirror_mode": {
    "name": "ipython",
    "version": 3
   },
   "file_extension": ".py",
   "mimetype": "text/x-python",
   "name": "python",
   "nbconvert_exporter": "python",
   "pygments_lexer": "ipython3",
   "version": "3.11.2"
  }
 },
 "nbformat": 4,
 "nbformat_minor": 2
}
