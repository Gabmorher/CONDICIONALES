{
 "cells": [
  {
   "cell_type": "code",
   "execution_count": 11,
   "metadata": {},
   "outputs": [
    {
     "name": "stdout",
     "output_type": "stream",
     "text": [
      "¡perdiste!\n"
     ]
    }
   ],
   "source": [
    "import random\n",
    "\n",
    "def play():\n",
    "    user=input(\"¿Qué vas a usar?'piedra','papel','tijeras\")\n",
    "    computer=random.choice(['piedra','papel','tijeras'])\n",
    "\n",
    "    if user==computer:\n",
    "        return 'es un empate'\n",
    "    \n",
    "    if is_win(user, computer):\n",
    "        return'¡ganaste!'\n",
    "    return'¡perdiste!'\n",
    "\n",
    "def is_win(player,oponent):\n",
    "    if(player=='piedra'and oponent=='tijeras')or(player=='tijeras'and oponent=='papel')\\\n",
    "     or(player=='papel' and oponent=='piedra'):\n",
    "     return True\n",
    "    \n",
    "print(play())\n",
    "\n"
   ]
  },
  {
   "cell_type": "code",
   "execution_count": 4,
   "metadata": {},
   "outputs": [
    {
     "name": "stdout",
     "output_type": "stream",
     "text": [
      "ronda1:\n",
      "¡ganaste!\n",
      "\n",
      "ronda2:\n",
      "¡perdiste!\n",
      "\n",
      "ronda3:\n",
      "¡perdiste!\n",
      "\n",
      "ronda4:\n",
      "¡perdiste!\n",
      "\n",
      "ronda5:\n",
      "es un empate\n",
      "\n"
     ]
    }
   ],
   "source": [
    "for i in range(5):\n",
    "    print(f\"ronda{i+1}:\")\n",
    "    resultado=play()\n",
    "    print(resultado)\n",
    "    print()"
   ]
  },
  {
   "cell_type": "code",
   "execution_count": 3,
   "metadata": {},
   "outputs": [
    {
     "name": "stdout",
     "output_type": "stream",
     "text": [
      "tu contraseña de  56 caracteres es: FTC7fZBWtK6QXibBHwSBkHn.aRjANvZ)hsOxarKTN(x%Wyupjy3m1kH0\n"
     ]
    }
   ],
   "source": [
    "# !\"#$%&()*+,-./0123456789?@ABCDEFGHIJKLMNOPQRSTUVWXYZabcdefghijklmnopkrstuvwxyz\n",
    "\n",
    "\n",
    "import random\n",
    "chars='!\"#$%&()*+,-./0123456789?@ABCDEFGHIJKLMNOPQRSTUVWXYZabcdefghijklmnopkrstuvwxyz'\n",
    "password=''\n",
    "\n",
    "lengthPW = int(input('que longitud quieres para tu pw'))\n",
    "\n",
    "for _ in range(lengthPW):\n",
    "   \n",
    "   password+=random.choice(chars)\n",
    "\n",
    "\n",
    "\n",
    "print(\"tu contraseña de \",lengthPW,\"caracteres es:\",password)"
   ]
  }
 ],
 "metadata": {
  "kernelspec": {
   "display_name": "Python 3",
   "language": "python",
   "name": "python3"
  },
  "language_info": {
   "codemirror_mode": {
    "name": "ipython",
    "version": 3
   },
   "file_extension": ".py",
   "mimetype": "text/x-python",
   "name": "python",
   "nbconvert_exporter": "python",
   "pygments_lexer": "ipython3",
   "version": "3.12.2"
  }
 },
 "nbformat": 4,
 "nbformat_minor": 2
}
